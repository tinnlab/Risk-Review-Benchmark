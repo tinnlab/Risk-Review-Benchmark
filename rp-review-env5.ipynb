{
 "cells": [
  {
   "cell_type": "markdown",
   "id": "e45ee779-7d95-4c93-946f-7aed9b83f2b9",
   "metadata": {},
   "source": [
    "This notebook is used to run the ***SurvivalNet*** methods using the ***rp-review-env5*** conda environment.\n",
    "Users should download the data using the [***data_download.sh***](./data_download.sh) script before running this notebook."
   ]
  },
  {
   "cell_type": "markdown",
   "id": "c0d07315-6247-4182-9b5d-1426c944c9e4",
   "metadata": {},
   "source": [
    "# SurvivalNet"
   ]
  },
  {
   "cell_type": "code",
   "execution_count": null,
   "id": "27249616-a12d-44a5-9c83-9b818f83e9d2",
   "metadata": {
    "scrolled": true
   },
   "outputs": [],
   "source": [
    "import sys\n",
    "import os\n",
    "\n",
    "# Please change the tmp_path with the path to the Risk-Review-Benchmark folder\n",
    "tmp_path = \"/data/daotran/Cancer_RP/Risk-Review-Benchmark/\"\n",
    "\n",
    "# Change the current working directory to './src/SurvivalNet'\n",
    "os.chdir(tmp_path + \"/src/SurvivalNet\")\n",
    "\n",
    "# Add the './src/SurvivalNet' directory to the system path so that Python can find modules there\n",
    "sys.path.append(tmp_path + \"/src/SurvivalNet\")\n",
    "\n",
    "# Import the 'run' function from the 'run.py' script\n",
    "from run import run\n",
    "\n",
    "# Path to the input data\n",
    "datPath = '../../AllData/ReviewPaper_Data_5kfeats'\n",
    "\n",
    "# Path to save the results\n",
    "resPath = '../../run-results'\n",
    "timerecPath = \"../../time-rec\"\n",
    "\n",
    "# Create the directory to save the results if it doesn't exist\n",
    "if os.path.exists(resPath + \"/SurvivalNet\") == False:\n",
    "    os.makedirs(resPath + \"/SurvivalNet\")\n",
    "\n",
    "if os.path.exists(timerecPath + \"/SurvivalNet\") == False:\n",
    "    os.makedirs(timerecPath + \"/SurvivalNet\")\n",
    "\n",
    "# Run the SurvivalNet method\n",
    "run(datPath, resPath, timerecPath)"
   ]
  }
 ],
 "metadata": {
  "kernelspec": {
   "display_name": "rp-review-env5",
   "language": "python",
   "name": "rp-review-env5"
  },
  "language_info": {
   "codemirror_mode": {
    "name": "ipython",
    "version": 2
   },
   "file_extension": ".py",
   "mimetype": "text/x-python",
   "name": "python",
   "nbconvert_exporter": "python",
   "pygments_lexer": "ipython2",
   "version": "2.7.18"
  }
 },
 "nbformat": 4,
 "nbformat_minor": 5
}
