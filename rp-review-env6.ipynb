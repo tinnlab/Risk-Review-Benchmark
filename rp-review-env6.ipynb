{
 "cells": [
  {
   "attachments": {},
   "cell_type": "markdown",
   "id": "37953f08-3f23-486d-9037-c6e38869b3a9",
   "metadata": {},
   "source": [
    "# OmiEmbeded"
   ]
  },
  {
   "cell_type": "code",
   "execution_count": null,
   "id": "d278f066-b2f6-4bd9-b3a6-e7836a83b2b2",
   "metadata": {},
   "outputs": [],
   "source": [
    "import sys\n",
    "# Add the './src/OmiEmbed' directory to the system path so that Python can find modules there\n",
    "sys.path.append(\"./src/OmiEmbed\")\n",
    "\n",
    "import os\n",
    "# Change the current working directory to './src/OmiEmbed'\n",
    "os.chdir(\"./src/OmiEmbed\")\n",
    "\n",
    "# Import the 'run' function from the 'run.py' script\n",
    "from run import run\n",
    "\n",
    "# Execute the OmiEmbed method\n",
    "run()\n"
   ]
  },
  {
   "cell_type": "code",
   "execution_count": null,
   "id": "fb29d891-9ccd-42e0-8336-25c5fbd3c852",
   "metadata": {},
   "outputs": [],
   "source": []
  }
 ],
 "metadata": {
  "kernelspec": {
   "display_name": "rp-review-env6",
   "language": "python",
   "name": "rp-review-env6"
  },
  "language_info": {
   "codemirror_mode": {
    "name": "ipython",
    "version": 3
   },
   "file_extension": ".py",
   "mimetype": "text/x-python",
   "name": "python",
   "nbconvert_exporter": "python",
   "pygments_lexer": "ipython3",
   "version": "3.8.18"
  }
 },
 "nbformat": 4,
 "nbformat_minor": 5
}
