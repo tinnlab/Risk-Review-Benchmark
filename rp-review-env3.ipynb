{
 "cells": [
  {
   "cell_type": "markdown",
   "id": "ee6f71f8-02d2-477b-b524-bc72e0a9ab5e",
   "metadata": {},
   "source": [
    "This notebook is used to run the ***MDNNMD*** methods using the ***rp-review-env3*** conda environment.\n",
    "Users should download the data using the [***data_download.sh***](./data_download.sh) script before running this notebook."
   ]
  },
  {
   "attachments": {},
   "cell_type": "markdown",
   "id": "1270a8cf-e188-4b69-9395-bc5a223942b5",
   "metadata": {},
   "source": [
    "# MDNNMD"
   ]
  },
  {
   "cell_type": "code",
   "execution_count": null,
   "id": "47ffa8ee-b9d9-4b52-aeb4-fd3bde7daf7e",
   "metadata": {},
   "outputs": [],
   "source": [
    "import sys\n",
    "import os\n",
    "\n",
    "# Please change the tmp_path with the path to the Risk-Review-Benchmark folder\n",
    "tmp_path = \"/data/daotran/Cancer_RP/Risk-Review-Benchmark/\"\n",
    "\n",
    "# Change the current working directory to './src/MDNNMD'\n",
    "os.chdir(tmp_path + \"/src/MDNNMD\")\n",
    "\n",
    "# Add the './src/MDNNMD' directory to the system path so that Python can find modules there\n",
    "sys.path.append(tmp_path + \"/src/MDNNMD\")\n",
    "\n",
    "# Import the 'run' function from the 'run.py' script\n",
    "from run import run\n",
    "\n",
    "# Path to the input data\n",
    "datPath = '../../AllData/ReviewPaper_Data_5kfeats'\n",
    "\n",
    "# Path to save the results\n",
    "resPath = '../../run-results'\n",
    "timerecPath = \"../../time-rec\"\n",
    "\n",
    "# Create the directory to save the results if it doesn't exist\n",
    "if os.path.exists(resPath + \"/MDNNMD\") == False:\n",
    "    os.makedirs(resPath + \"/MDNNMD\")\n",
    "\n",
    "if os.path.exists(timerecPath + \"/MDNNMD\") == False:\n",
    "    os.makedirs(timerecPath + \"/MDNNMD\")\n",
    "\n",
    "# Run the MDNNMD method\n",
    "run(datPath, resPath, timerecPath)"
   ]
  }
 ],
 "metadata": {
  "kernelspec": {
   "display_name": "rp-review-env3",
   "language": "python",
   "name": "rp-review-env3"
  },
  "language_info": {
   "codemirror_mode": {
    "name": "ipython",
    "version": 2
   },
   "file_extension": ".py",
   "mimetype": "text/x-python",
   "name": "python",
   "nbconvert_exporter": "python",
   "pygments_lexer": "ipython2",
   "version": "2.7.18"
  }
 },
 "nbformat": 4,
 "nbformat_minor": 5
}
