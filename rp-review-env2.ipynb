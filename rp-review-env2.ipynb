{
 "cells": [
  {
   "attachments": {},
   "cell_type": "markdown",
   "id": "c26cb269-2391-4c6b-8895-5ca8e3a7bfff",
   "metadata": {},
   "source": [
    "This notebook is used to run the following methods using the ***rp-review-env2*** conda environment:\n",
    "- ***TCGA-omics-integration***\n",
    "- ***CustOmics***\n",
    "- ***SALMON***\n",
    "- ***MiNet***\n",
    "- ***SAE & CSAE***\n",
    "- ***TF-Loghazard Net & TF-ESN***\n",
    "- ***FGCNSurv***\n",
    "\n",
    "Users should download the data from XXX and unzip it to the current directory of this notebook."
   ]
  },
  {
   "cell_type": "markdown",
   "id": "3213f4a0-8f87-4c35-8c69-c2577bbda103",
   "metadata": {},
   "source": [
    "# TCGA-omics-integration"
   ]
  },
  {
   "cell_type": "code",
   "execution_count": null,
   "id": "ef589e33-3252-4c6a-bd3d-7034b1aa52cf",
   "metadata": {},
   "outputs": [],
   "source": [
    "import sys\n",
    "# Add the './src/TCGA-omics-integration' directory to the system path so that Python can find modules there\n",
    "sys.path.append(\"./src/TCGA-omics-integration\")\n",
    "import os\n",
    "# Change the current working directory to './src/TCGA-omics-integration'\n",
    "os.chdir(\"./src/TCGA-omics-integration\")\n",
    "from run import run\n",
    "\n",
    "# Path to the input data\n",
    "datPath = '../../AllData/ReviewPaper_Data'\n",
    "\n",
    "# Path to save the results\n",
    "resPath = '../../run-results'\n",
    "\n",
    "# Create the directory to save the results if it doesn't exist\n",
    "if os.path.exists(resPath + \"/TCGA-omics-integration\") == False:\n",
    "    os.makedirs(resPath + \"/TCGA-omics-integration\")\n",
    "\n",
    "# Run TCGA-omics-integration\n",
    "run(datPath, resPath)\n",
    "# Set the current working directory back to the root folder of this notebook\n",
    "os.chdir(\"../\")"
   ]
  },
  {
   "cell_type": "markdown",
   "id": "7abfdd49-ec7f-496a-9667-ecf29bbd913e",
   "metadata": {},
   "source": [
    "# CustOmics"
   ]
  },
  {
   "cell_type": "code",
   "execution_count": null,
   "id": "815b4787-1c01-462b-abb4-4f89d6d1b965",
   "metadata": {},
   "outputs": [],
   "source": [
    "import sys\n",
    "# Add the './src/CustOmics' directory to the system path so that Python can find modules there\n",
    "sys.path.append(\"./src/CustOmics\")\n",
    "import os\n",
    "# Change the current working directory to './src/CustOmics'\n",
    "os.chdir(\"./src/CustOmics\")\n",
    "from run import run\n",
    "\n",
    "# Path to the input data\n",
    "datPath = '../../AllData/ReviewPaper_Data'\n",
    "\n",
    "# Path to save the results\n",
    "resPath = '../../run-results'\n",
    "# Create the directory to save the results if it doesn't exist\n",
    "if os.path.exists(resPath + \"/CustOmics\") == False:\n",
    "    os.makedirs(resPath + \"/CustOmics\")\n",
    "\n",
    "# Run CustOmics\n",
    "run(datPath, resPath)\n",
    "# Set the current working directory back to the root folder of this notebook\n",
    "os.chdir(\"../\")"
   ]
  },
  {
   "cell_type": "markdown",
   "id": "98d6b085-920d-415a-9cc5-f0aa6b293a14",
   "metadata": {},
   "source": [
    "# SALMON"
   ]
  },
  {
   "cell_type": "code",
   "execution_count": null,
   "id": "15fb9558-f061-4a02-a5b8-cf5e8aa0bbb4",
   "metadata": {
    "scrolled": true
   },
   "outputs": [],
   "source": [
    "import sys\n",
    "# Add the './src/SALMON' directory to the system path so that Python can find modules there\n",
    "sys.path.append(\"./SALMON\")\n",
    "import os\n",
    "# Set the root for R to run r2py package\n",
    "# Please change it to the R root in your rp-review-env2 environment.\n",
    "os.environ['R_HOME'] = '/home/dungp/miniconda3/envs/rp-review-env2/lib/R'\n",
    "os.environ['PATH'] += '/home/dungp/miniconda3/envs/rp-review-env2/lib/R/bin'\n",
    "# Change the current working directory to './src/SALMON'\n",
    "os.chdir(\"./SALMON\")\n",
    "from run import run\n",
    "\n",
    "# Path to the input data\n",
    "datPath = '../../AllData/ReviewPaper_Data'\n",
    "\n",
    "# Path to save the results\n",
    "resPath = '../../run-results'\n",
    "\n",
    "# Create the directory to save the results if it doesn't exist\n",
    "if os.path.exists(resPath + \"/SALMON\") == False:\n",
    "    os.makedirs(resPath + \"/SALMON\")\n",
    "\n",
    "# Run SALMON\n",
    "run(datPath, resPath)\n",
    "# Set the current working directory back to the root folder of this notebook\n",
    "os.chdir(\"../\")"
   ]
  },
  {
   "cell_type": "markdown",
   "id": "dfe3ef0e-7c45-40c5-a643-5c2a222c22fd",
   "metadata": {},
   "source": [
    "# MiNet"
   ]
  },
  {
   "cell_type": "code",
   "execution_count": null,
   "id": "09ec66c9-708e-4faf-8d42-0647614a84f3",
   "metadata": {},
   "outputs": [],
   "source": [
    "import sys\n",
    "# Add the './src/MiNet' directory to the system path so that Python can find modules there\n",
    "sys.path.append(\"./MiNet\")\n",
    "import os\n",
    "# Change the current working directory to './src/MiNet'\n",
    "os.chdir(\"./MiNet\")\n",
    "import pandas as pd\n",
    "from run import run\n",
    "\n",
    "# Path to the input data\n",
    "datPath = '../../AllData/ReviewPaper_Data'\n",
    "\n",
    "# Path to save the results\n",
    "resPath = '../../run-results'\n",
    "\n",
    "# Read the gene-pathway table\n",
    "GenePwTable = pd.read_csv(\"/nfs/blanche/share/daotran/SurvivalPrediction/AllData/GenePwTable.csv\", header=0, sep=\",\")\n",
    "# Create the directory to save the results if it doesn't exist\n",
    "if os.path.exists(resPath + \"/Minet\") == False:\n",
    "    os.makedirs(resPath + \"/Minet\")\n",
    "\n",
    "# Run Minet\n",
    "run(datPath, resPath, GenePwTable)\n",
    "# Set the current working directory back to the root folder of this notebook\n",
    "os.chdir(\"../\")"
   ]
  },
  {
   "cell_type": "markdown",
   "id": "01c033b3-0e0a-435c-87c4-b0d03750b348",
   "metadata": {},
   "source": [
    "# CSAE"
   ]
  },
  {
   "cell_type": "code",
   "execution_count": null,
   "id": "ef1dd150-1d9b-4d96-834b-2b0171675524",
   "metadata": {
    "scrolled": true
   },
   "outputs": [],
   "source": [
    "import sys\n",
    "# Add the './src/CSAE' directory to the system path so that Python can find modules there\n",
    "sys.path.append(\"./src/CSAE\")\n",
    "import os\n",
    "# Change the current working directory to './src/CSAE'\n",
    "os.chdir(\"./src/CSAE\")\n",
    "from run import run\n",
    "\n",
    "# Path to the input data\n",
    "datPath = '../../AllData/ReviewPaper_Data'\n",
    "\n",
    "# Path to save the results\n",
    "resPath = '../../run-results'\n",
    "\n",
    "# Create the directory to save the results if it doesn't exist\n",
    "if os.path.exists(resPath + \"/CSAE\") == False:\n",
    "    os.makedirs(resPath + \"/CSAE\")\n",
    "\n",
    "# Run CSAE\n",
    "run(datPath, resPath)\n",
    "# Set the current working directory back to the root folder of this notebook\n",
    "os.chdir(\"../\")"
   ]
  },
  {
   "cell_type": "markdown",
   "id": "cd21bc70-b85b-415e-b5eb-cd11b2a774f4",
   "metadata": {},
   "source": [
    "# SAE"
   ]
  },
  {
   "cell_type": "code",
   "execution_count": null,
   "id": "c43a2305-7af8-43f6-9bda-d388fca1bb48",
   "metadata": {},
   "outputs": [],
   "source": [
    "import sys\n",
    "# Add the './src/SAE' directory to the system path so that Python can find modules there\n",
    "sys.path.append(\"./src/SAE\")\n",
    "import os\n",
    "# Change the current working directory to './src/SAE'\n",
    "os.chdir(\"./src/SAE\")\n",
    "from run import run\n",
    "\n",
    "# Path to the input data\n",
    "datPath = '../../AllData/ReviewPaper_Data'\n",
    "\n",
    "# Path to save the results\n",
    "resPath = '../../run-results'\n",
    "\n",
    "# Create the directory to save the results if it doesn't exist\n",
    "if os.path.exists(resPath + \"/SAE\") == False:\n",
    "    os.makedirs(resPath + \"/SAE\")\n",
    "\n",
    "# Run SAE\n",
    "run(datPath, resPath)\n",
    "# Set the current working directory back to the root folder of this notebook\n",
    "os.chdir(\"../\")"
   ]
  },
  {
   "cell_type": "markdown",
   "id": "75e3804d-255b-43e9-b8ba-fa157af48f1e",
   "metadata": {},
   "source": [
    "# TF-ESN"
   ]
  },
  {
   "cell_type": "code",
   "execution_count": null,
   "id": "1c673a90-a1d2-4b55-a397-f15fab090890",
   "metadata": {
    "scrolled": true
   },
   "outputs": [],
   "source": [
    "import sys\n",
    "# Add the './src/TF-ESN' directory to the system path so that Python can find modules there\n",
    "sys.path.append(\"./TF-ESN\")\n",
    "import os\n",
    "# Change the current working directory to './src/TF-ESN'\n",
    "os.chdir(\"./TF-ESN\")\n",
    "from run import run\n",
    "\n",
    "# Path to the data\n",
    "datPath = '../../AllData/TF-ProcessData'\n",
    "# Path to save the result\n",
    "resPath = '../../run-results'\n",
    "\n",
    "# Create the directory to save the results if it doesn't exist\n",
    "if os.path.exists(resPath + \"/TF-ESN\") == False:\n",
    "    os.makedirs(resPath + \"/TF-ESN\")\n",
    "\n",
    "# Run TF-ESN\n",
    "run(datPath, resPath)\n",
    "# Set the current working directory back to the root folder of this notebook\n",
    "os.chdir(\"../\")"
   ]
  },
  {
   "cell_type": "markdown",
   "id": "dceabbb6-7ca1-4a2e-a470-daaa071eb8aa",
   "metadata": {},
   "source": [
    "# TF-LogHazardNet"
   ]
  },
  {
   "cell_type": "code",
   "execution_count": null,
   "id": "ceda756c-4aa6-47a1-862d-4e614c1bd78e",
   "metadata": {
    "scrolled": true
   },
   "outputs": [],
   "source": [
    "import sys\n",
    "# Add the './src/TF-LogHazardNet' directory to the system path so that Python can find modules there\n",
    "sys.path.append(\"./src/TF-LogHazardNet\")\n",
    "import os\n",
    "# Change the current working directory to './src/TF-LogHazardNet'\n",
    "os.chdir(\"./src/TF-LogHazardNet\")\n",
    "from run import run\n",
    "\n",
    "# Path to the data\n",
    "datPath = '../../AllData/TF-ProcessData'\n",
    "# Path to save the result\n",
    "resPath = '../../run-results'\n",
    "# Create the directory to save the results if it doesn't exist\n",
    "if os.path.exists(resPath + \"/TF-LogHazardNet\") == False:\n",
    "    os.makedirs(resPath + \"/TF-LogHazardNet\")\n",
    "\n",
    "# Run TF-LogHazardNet\n",
    "run(datPath, resPath)\n",
    "# Set the current working directory back to the root folder of this notebook\n",
    "os.chdir(\"../\")"
   ]
  },
  {
   "attachments": {},
   "cell_type": "markdown",
   "id": "735529a1-949a-45dc-b937-65110062ae99",
   "metadata": {},
   "source": [
    "# FGCNSurv"
   ]
  },
  {
   "cell_type": "code",
   "execution_count": null,
   "id": "d5826a1e-6aae-4aef-8a80-6eb5da031ac7",
   "metadata": {},
   "outputs": [],
   "source": [
    "import sys\n",
    "# Add the './src/FGCNSurv' directory to the system path so that Python can find modules there\n",
    "sys.path.append(\"./src/FGCNSurv\")\n",
    "import os\n",
    "# Change the current working directory to './src/FGCNSurv'\n",
    "os.chdir(\"./src/FGCNSurv\")\n",
    "from run import run\n",
    "\n",
    "# Path to the data\n",
    "datPath = '../../AllData/ReviewPaper_Data'\n",
    "# Path to save the result\n",
    "resPath = '../../run-results'\n",
    "# Create the directory to save the results if it doesn't exist\n",
    "if os.path.exists(resPath + \"/FGCNSurv\") == False:\n",
    "    os.makedirs(resPath + \"/FGCNSurv\")\n",
    "\n",
    "# Run FGCNSurv\n",
    "run(datPath, resPath)\n",
    "# Set the current working directory back to the root folder of this notebook\n",
    "os.chdir(\"../\")"
   ]
  }
 ],
 "metadata": {
  "kernelspec": {
   "display_name": "rp-review-env2",
   "language": "python",
   "name": "rp-review-env2"
  },
  "language_info": {
   "codemirror_mode": {
    "name": "ipython",
    "version": 3
   },
   "file_extension": ".py",
   "mimetype": "text/x-python",
   "name": "python",
   "nbconvert_exporter": "python",
   "pygments_lexer": "ipython3",
   "version": "3.9.17"
  }
 },
 "nbformat": 4,
 "nbformat_minor": 5
}
