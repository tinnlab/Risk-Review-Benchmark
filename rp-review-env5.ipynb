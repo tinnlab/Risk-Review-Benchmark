{
 "cells": [
  {
   "cell_type": "markdown",
   "id": "e45ee779-7d95-4c93-946f-7aed9b83f2b9",
   "metadata": {},
   "source": [
    "This notebook is used to run the ***SurvivalNet*** methods using the ***rp-review-env5*** conda environment.\n",
    "User should download the data from XXX and unzip it to the current directory of this notebook."
   ]
  },
  {
   "cell_type": "markdown",
   "id": "c0d07315-6247-4182-9b5d-1426c944c9e4",
   "metadata": {},
   "source": [
    "# SurvivalNet"
   ]
  },
  {
   "cell_type": "code",
   "execution_count": null,
   "id": "27249616-a12d-44a5-9c83-9b818f83e9d2",
   "metadata": {
    "scrolled": true
   },
   "outputs": [
    {
     "name": "stdout",
     "output_type": "stream",
     "text": [
      "TCGA-BLCA\n",
      "****** seed 1 ******\n",
      "***Model Selection with BayesOpt***\n",
      "*** Model Selection with BayesOpt ***\n",
      "nl9-hs462-dor0.0821859240532_nonlin<function relu at 0x7f740f726850>\n"
     ]
    },
    {
     "name": "stderr",
     "output_type": "stream",
     "text": [
      "WARNING (theano.configdefaults): install mkl with `conda install mkl-service`: No module named mkl\n"
     ]
    },
    {
     "name": "stdout",
     "output_type": "stream",
     "text": [
      "nl1-hs214-dor0.558422434842_nonlin<ufunc 'tanh'>\n",
      "nl1-hs10-dor1.0_nonlin<function relu at 0x7f740f726850>\n",
      "nl10-hs500-dor1.0_nonlin<ufunc 'tanh'>\n",
      "nl1-hs10-dor3.35288361942e-20_nonlin<ufunc 'tanh'>\n",
      "nl1-hs10-dor0.0_nonlin<function relu at 0x7f740f726850>\n",
      "nl1-hs500-dor6.77065351029e-23_nonlin<ufunc 'tanh'>\n",
      "nl1-hs292-dor0.0_nonlin<ufunc 'tanh'>\n",
      "nl1-hs10-dor1.08420217249e-19_nonlin<ufunc 'tanh'>\n",
      "nl10-hs10-dor2.71050543121e-20_nonlin<ufunc 'tanh'>\n",
      "nl10-hs10-dor4.6012071825e-21_nonlin<function relu at 0x7f740f726850>\n",
      "nl10-hs10-dor2.03287907341e-20_nonlin<ufunc 'tanh'>\n",
      "nl10-hs10-dor8.14547620071e-05_nonlin<ufunc 'tanh'>\n",
      "nl7-hs253-dor9.82506261644e-05_nonlin<ufunc 'tanh'>\n",
      "nl6-hs10-dor8.84189165289e-05_nonlin<ufunc 'tanh'>\n",
      "nl10-hs499-dor1.85824407618e-19_nonlin<ufunc 'tanh'>\n",
      "nl9-hs269-dor7.63313460754e-05_nonlin<ufunc 'tanh'>\n",
      "nl10-hs51-dor1.0_nonlin<ufunc 'tanh'>\n",
      "nl1-hs499-dor4.25002540465e-20_nonlin<ufunc 'tanh'>\n",
      "nl1-hs500-dor2.11295882749e-18_nonlin<ufunc 'tanh'>\n",
      "nl4-hs500-dor8.70593620865e-05_nonlin<function relu at 0x7f740f726850>\n",
      "nl6-hs499-dor0.000106921775237_nonlin<ufunc 'tanh'>\n",
      "nl1-hs297-dor9.56460230732e-05_nonlin<function relu at 0x7f740f726850>\n",
      "nl4-hs499-dor9.08681839505e-05_nonlin<ufunc 'tanh'>\n",
      "nl4-hs499-dor7.88698768962e-05_nonlin<function relu at 0x7f740f726850>\n",
      "nl10-hs10-dor3.91976406342e-32_nonlin<function relu at 0x7f740f726850>\n",
      "nl1-hs499-dor3.96870653418e-30_nonlin<function relu at 0x7f740f726850>\n",
      "nl1-hs500-dor1.0_nonlin<function relu at 0x7f740f726850>\n",
      "nl1-hs500-dor1.0_nonlin<function relu at 0x7f740f726850>\n",
      "nl1-hs500-dor1.0_nonlin<function relu at 0x7f740f726850>\n",
      "nl1-hs10-dor1.0_nonlin<function relu at 0x7f740f726850>\n",
      "nl1-hs499-dor0.629283253906_nonlin<ufunc 'tanh'>\n",
      "nl1-hs158-dor6.64414843004e-05_nonlin<function relu at 0x7f740f726850>\n",
      "nl1-hs268-dor0.000126047985366_nonlin<ufunc 'tanh'>\n",
      "nl3-hs499-dor8.90693425933e-05_nonlin<ufunc 'tanh'>\n",
      "nl9-hs150-dor7.13102651669e-05_nonlin<ufunc 'tanh'>\n",
      "nl1-hs499-dor0.438037095854_nonlin<function relu at 0x7f740f726850>\n",
      "nl7-hs290-dor6.90671587781e-05_nonlin<ufunc 'tanh'>\n",
      "nl10-hs10-dor1.46147215566e-20_nonlin<ufunc 'tanh'>\n",
      "nl9-hs499-dor1.2720936261e-05_nonlin<ufunc 'tanh'>\n",
      "nl5-hs266-dor7.45333807543e-05_nonlin<ufunc 'tanh'>\n",
      "nl6-hs10-dor9.44427249583e-05_nonlin<ufunc 'tanh'>\n",
      "nl10-hs10-dor6.8329601725e-05_nonlin<function relu at 0x7f740f726850>\n",
      "nl1-hs10-dor1.87788063342e-34_nonlin<function relu at 0x7f740f726850>\n",
      "nl4-hs258-dor6.15192989811e-05_nonlin<function relu at 0x7f740f726850>\n",
      "nl5-hs472-dor8.53756558229e-05_nonlin<ufunc 'tanh'>\n"
     ]
    }
   ],
   "source": [
    "import sys\n",
    "# Add the './src/SurvivalNet' directory to the system path so that Python can find modules there\n",
    "sys.path.append(\"./src/SurvivalNet\")\n",
    "import os\n",
    "# Change the current working directory to './src/SurvivalNet'\n",
    "os.chdir(\"./src/SurvivalNet\")\n",
    "# Import the 'run' function from the 'run.py' script\n",
    "from run import run\n",
    "\n",
    "# Path to the input data\n",
    "datPath = '../../AllData/ReviewPaper_Data'\n",
    "\n",
    "# Path to save the results\n",
    "resPath = '../../run-results'\n",
    "\n",
    "# Create the directory to save the results if it doesn't exist\n",
    "if os.path.exists(resPath + \"/SurvivalNet\") == False:\n",
    "    os.makedirs(resPath + \"/SurvivalNet\")\n",
    "\n",
    "# Run the SurvivalNet method\n",
    "run(datPath, resPath)"
   ]
  },
  {
   "cell_type": "code",
   "execution_count": null,
   "id": "25bdf635-8184-4aab-898e-199d3bc7f79e",
   "metadata": {},
   "outputs": [],
   "source": []
  }
 ],
 "metadata": {
  "kernelspec": {
   "display_name": "rp-review-env5",
   "language": "python",
   "name": "rp-review-env5"
  },
  "language_info": {
   "codemirror_mode": {
    "name": "ipython",
    "version": 2
   },
   "file_extension": ".py",
   "mimetype": "text/x-python",
   "name": "python",
   "nbconvert_exporter": "python",
   "pygments_lexer": "ipython2",
   "version": "2.7.18"
  }
 },
 "nbformat": 4,
 "nbformat_minor": 5
}
