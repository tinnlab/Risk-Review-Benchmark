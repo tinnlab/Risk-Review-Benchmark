{
 "cells": [
  {
   "cell_type": "markdown",
   "id": "d61af791-855b-42f1-ab56-b61862c4b4ce",
   "metadata": {},
   "source": [
    "This notebook is used to run the ***GDP*** methods using the ***rp-review-env4*** conda environment.\n",
    "Users should download the data from XXX and unzip it to the current directory of this notebook."
   ]
  },
  {
   "attachments": {},
   "cell_type": "markdown",
   "id": "a3290919-6907-43f2-9018-eeb43eb471a9",
   "metadata": {},
   "source": [
    "# GDP"
   ]
  },
  {
   "cell_type": "code",
   "execution_count": null,
   "id": "b655982e-1805-4e0d-ada4-24eed37cb779",
   "metadata": {
    "scrolled": true
   },
   "outputs": [],
   "source": [
    "import sys\n",
    "# Add the './src/GDP' directory to the system path so that Python can find modules there\n",
    "sys.path.append(\"./src/GDP\")\n",
    "import os\n",
    "# Change the current working directory to './src/GDP'\n",
    "os.chdir(\"./src/GDP\")\n",
    "\n",
    "# Import the 'run' function from the 'run.py' script\n",
    "from run import run\n",
    "\n",
    "# Path to the input data\n",
    "datPath = '../../AllData/ReviewPaper_Data'\n",
    "\n",
    "# Path to save the results\n",
    "resPath = '../../run-results'\n",
    "\n",
    "# Create the directory to save the results if it doesn't exist\n",
    "if os.path.exists(resPath + \"/GDP\") == False:\n",
    "    os.makedirs(resPath + \"/GDP\")\n",
    "\n",
    "# Run the GDP method with the specified data and results paths\n",
    "run(datPath, resPath)\n"
   ]
  },
  {
   "cell_type": "code",
   "execution_count": null,
   "id": "96f50b0b-9de7-435e-86ba-8b9b2f5faa07",
   "metadata": {},
   "outputs": [],
   "source": []
  }
 ],
 "metadata": {
  "kernelspec": {
   "display_name": "rp-review-env4",
   "language": "python",
   "name": "rp-review-env4"
  },
  "language_info": {
   "codemirror_mode": {
    "name": "ipython",
    "version": 3
   },
   "file_extension": ".py",
   "mimetype": "text/x-python",
   "name": "python",
   "nbconvert_exporter": "python",
   "pygments_lexer": "ipython3",
   "version": "3.7.12"
  }
 },
 "nbformat": 4,
 "nbformat_minor": 5
}
