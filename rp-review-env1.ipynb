{
 "cells": [
  {
   "attachments": {},
   "cell_type": "markdown",
   "id": "9b0107d2-09c4-47ba-892e-000486c71e5f",
   "metadata": {},
   "source": [
    "This notebook is used to run the following methods using the ***R kernel*** installed in ***rp-review-env1*** conda environment:\n",
    "- ***M2EFM***\n",
    "- ***IPF-LASSO***\n",
    "- ***priority-Lasso***\n",
    "- ***Multimodal_NSCLC***\n",
    "- ***I-Boost***\n",
    "- ***blockForest***\n",
    "\n",
    "Users should download the data using the [***data_download.sh***](./data_download.sh) script before running this notebook."
   ]
  },
  {
   "cell_type": "markdown",
   "id": "bcc558b5-9317-464f-910e-819d38db2af7",
   "metadata": {},
   "source": [
    "# M2EFM"
   ]
  },
  {
   "cell_type": "code",
   "execution_count": null,
   "id": "456aa25d-e158-4db5-a757-6c839da3d750",
   "metadata": {
    "scrolled": true,
    "vscode": {
     "languageId": "r"
    }
   },
   "outputs": [],
   "source": [
    "# Load the script with necessary functions\n",
    "source(\"./src/M2EFM/run.R\")\n",
    "\n",
    "# Define paths for data and results\n",
    "datPath <- \"./AllData/RP_Data_rds_5kfeats\"  # Path to input data\n",
    "resPath <- \"./run-results\"  # Path to save results\n",
    "timerecPath <- \"./time-rec\"\n",
    "probePath <- \"./AllData/M2EFM_RemoveProbes\"\n",
    "\n",
    "# Create the directory to save the results if it doesn't exist\n",
    "if (!dir.exists(file.path(resPath, \"M2EFM\"))) {\n",
    "  dir.create(file.path(resPath, \"M2EFM\"))\n",
    "}\n",
    "\n",
    "if (!dir.exists(file.path(timerecPath, \"M2EFM\"))) {\n",
    "  dir.create(file.path(timerecPath, \"M2EFM\"))\n",
    "}\n",
    "\n",
    "# Run the M2EFM method\n",
    "run(datPath, probePath, resPath, timerecPath)"
   ]
  },
  {
   "cell_type": "markdown",
   "id": "bb1f8771-8875-42a6-95db-3067e20900b1",
   "metadata": {},
   "source": [
    "# IPF-LASSO"
   ]
  },
  {
   "cell_type": "code",
   "execution_count": null,
   "id": "be9db71e-91a7-44ae-b4c2-bdb32fa55b75",
   "metadata": {
    "scrolled": true,
    "vscode": {
     "languageId": "r"
    }
   },
   "outputs": [],
   "source": [
    "# Load the script with necessary functions\n",
    "source(\"./src/IPF-LASSO/run.R\")\n",
    "\n",
    "# Define paths for data and results\n",
    "datPath <- \"./AllData/RP_Data_rds_5kfeats\"\n",
    "resPath <- \"./run-results\"\n",
    "timerecPath <- \"./time-rec\"\n",
    "\n",
    "# Create the directory to save the results if it doesn't exist\n",
    "if (!dir.exists(file.path(resPath, \"IPF-LASSO\"))) {\n",
    "  dir.create(file.path(resPath, \"IPF-LASSO\"))\n",
    "}\n",
    "\n",
    "if (!dir.exists(file.path(timerecPath, \"IPF-LASSO\"))) {\n",
    "  dir.create(file.path(timerecPath, \"IPF-LASSO\"))\n",
    "}\n",
    "\n",
    "# Run the IPF-LASSO method\n",
    "run(datPath, resPath, timerecPath)"
   ]
  },
  {
   "cell_type": "markdown",
   "id": "cb22c127-0e57-449e-b00b-c54c527fdc2e",
   "metadata": {},
   "source": [
    "# Priority-Lasso"
   ]
  },
  {
   "cell_type": "code",
   "execution_count": null,
   "id": "fa070ca3-6bab-466d-9de7-ff602731760f",
   "metadata": {
    "scrolled": true,
    "vscode": {
     "languageId": "r"
    }
   },
   "outputs": [],
   "source": [
    "# Load the script with necessary functions\n",
    "source(\"./src/Priority-Lasso/run.R\")\n",
    "\n",
    "# Define paths for data and results\n",
    "datPath <- \"./AllData/RP_Data_rds_5kfeats\"\n",
    "resPath <- \"./run-results\"\n",
    "timerecPath <- \"./time-rec\"\n",
    "\n",
    "# Create the directory to save the results if it doesn't exist\n",
    "if (!dir.exists(file.path(resPath, \"Priority-Lasso\"))) {\n",
    "  dir.create(file.path(resPath, \"Priority-Lasso\"))\n",
    "}\n",
    "\n",
    "if (!dir.exists(file.path(timerecPath, \"Priority-Lasso\"))) {\n",
    "  dir.create(file.path(timerecPath, \"Priority-Lasso\"))\n",
    "}\n",
    "\n",
    "# Run the Priority-Lasso method\n",
    "run(datPath, resPath, timerecPath)"
   ]
  },
  {
   "cell_type": "markdown",
   "id": "6d271633-89b2-4d0f-a05f-f0e17c47b477",
   "metadata": {},
   "source": [
    "# Multimodal_NSCLC"
   ]
  },
  {
   "cell_type": "code",
   "execution_count": null,
   "id": "ca8076a1-fe49-450b-bdc0-c2e958bddf70",
   "metadata": {
    "vscode": {
     "languageId": "r"
    }
   },
   "outputs": [],
   "source": [
    "# Load the script with necessary functions\n",
    "source(\"./src/Multimodal_NSCLC/run.R\")\n",
    "\n",
    "# Define paths for data and results\n",
    "datPath <- \"./AllData/RP_Data_rds_5kfeats\"\n",
    "resPath <- \"./run-results\"\n",
    "timerecPath <- \"./time-rec\"\n",
    "\n",
    "# Create the directory to save the results if it doesn't exist\n",
    "if (!dir.exists(file.path(resPath, \"Multimodal_NSCLC\"))) {\n",
    "  dir.create(file.path(resPath, \"Multimodal_NSCLC\"))\n",
    "}\n",
    "\n",
    "if (!dir.exists(file.path(timerecPath, \"Multimodal_NSCLC\"))) {\n",
    "  dir.create(file.path(timerecPath, \"Multimodal_NSCLC\"))\n",
    "}\n",
    "\n",
    "# Load the required inputs for the Multimodal_NSCLC method\n",
    "IslandProbes <- readRDS(\"./AllData/Meth_Island_Probe.rds\")$ProbeIds\n",
    "LncRNAList <- readRDS(\"./AllData/LncRNAs.rds\")$LNCS\n",
    "\n",
    "# Run the Multimodal_NSCLC method\n",
    "run(datPath, resPath, timerecPath, IslandProbes, LncRNAList)\n"
   ]
  },
  {
   "cell_type": "markdown",
   "id": "8982cbee-e68a-4316-b660-734ff1a143bf",
   "metadata": {},
   "source": [
    "# I-Boost"
   ]
  },
  {
   "cell_type": "code",
   "execution_count": null,
   "id": "f14b464e-b93f-4df9-a06b-8638ffa05255",
   "metadata": {
    "scrolled": true,
    "vscode": {
     "languageId": "r"
    }
   },
   "outputs": [],
   "source": [
    "# Load the script with necessary functions\n",
    "source(\"./src/I-Boost/run.R\")\n",
    "\n",
    "# Define paths for data and results\n",
    "datPath <- \"./AllData/RP_Data_rds_5kfeats\"\n",
    "resPath <- \"./run-results\"\n",
    "timerecPath <- \"./time-rec\"\n",
    "\n",
    "# Create the directory to save the results if it doesn't exist\n",
    "if (!dir.exists(file.path(resPath, \"I-Boost\"))) {\n",
    "  dir.create(file.path(resPath, \"I-Boost\"))\n",
    "}\n",
    "\n",
    "if (!dir.exists(file.path(timerecPath, \"I-Boost\"))) {\n",
    "  dir.create(file.path(timerecPath, \"I-Boost\"))\n",
    "}\n",
    "\n",
    "# Run the I-Boost method\n",
    "run(datPath, resPath, timerecPath)"
   ]
  },
  {
   "cell_type": "markdown",
   "id": "91f5864a-d7b8-4326-b87e-c53aa3222a43",
   "metadata": {},
   "source": [
    "# blockForest"
   ]
  },
  {
   "cell_type": "code",
   "execution_count": null,
   "id": "88b797e8-f829-4ec5-b938-de341ac0cf9b",
   "metadata": {
    "vscode": {
     "languageId": "r"
    }
   },
   "outputs": [],
   "source": [
    "# Load the script with necessary functions\n",
    "source(\"./src/blockForest/run.R\")\n",
    "\n",
    "# Define paths for data and results\n",
    "datPath <- \"./AllData/RP_Data_rds_5kfeats\"\n",
    "resPath <- \"./run-results\"\n",
    "timerecPath <- \"./time-rec\"\n",
    "\n",
    "# Create the directory to save the results if it doesn't exist\n",
    "if (!dir.exists(file.path(resPath, \"blockForest\"))) {\n",
    "  dir.create(file.path(resPath, \"blockForest\"))\n",
    "}\n",
    "\n",
    "if (!dir.exists(file.path(timerecPath, \"blockForest\"))) {\n",
    "  dir.create(file.path(timerecPath, \"blockForest\"))\n",
    "}\n",
    "\n",
    "# Run the blockForest method\n",
    "run(datPath, resPath, timerecPath)"
   ]
  }
 ],
 "metadata": {
  "kernelspec": {
   "display_name": "R",
   "language": "R",
   "name": "ir"
  },
  "language_info": {
   "codemirror_mode": "r",
   "file_extension": ".r",
   "mimetype": "text/x-r-source",
   "name": "R",
   "pygments_lexer": "r",
   "version": "4.3.2"
  }
 },
 "nbformat": 4,
 "nbformat_minor": 5
}
