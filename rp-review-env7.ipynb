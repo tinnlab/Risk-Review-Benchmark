{
 "cells": [
  {
   "cell_type": "markdown",
   "id": "47ac9f06-d25d-46a8-8644-6f1f63828457",
   "metadata": {},
   "source": [
    "# MultimodalSurvivalPrediction"
   ]
  },
  {
   "cell_type": "code",
   "execution_count": null,
   "id": "9b3320a7-eecc-4607-80e7-d84187f52cfc",
   "metadata": {},
   "outputs": [],
   "source": [
    "import sys\n",
    "# Add the './src/MultimodalSurvivalPrediction' directory to the system path so that Python can find modules there\n",
    "sys.path.append(\"./src/MultimodalSurvivalPrediction\")\n",
    "import os\n",
    "# Change the current working directory to './src/MultimodalSurvivalPrediction'\n",
    "os.chdir(\"./src/MultimodalSurvivalPrediction\")\n",
    "\n",
    "# Import the 'run' function from the 'run.py' script\n",
    "from run import run\n",
    "\n",
    "# Path to the input data\n",
    "datPath = '../../AllData/ReviewPaper_Data'\n",
    "\n",
    "# Path to save the results\n",
    "resPath = '../../run-results'\n",
    "\n",
    "# Create the directory to save the results if it doesn't exist\n",
    "if os.path.exists(resPath + \"/MultimodalSurvivalPrediction\") == False:\n",
    "    os.makedirs(resPath + \"/MultimodalSurvivalPrediction\")\n",
    "\n",
    "# Run the MultimodalSurvivalPrediction method\n",
    "run(datPath, resPath)"
   ]
  },
  {
   "cell_type": "code",
   "execution_count": null,
   "id": "fc234f22-163a-4de8-a1f4-b87727089068",
   "metadata": {},
   "outputs": [],
   "source": []
  }
 ],
 "metadata": {
  "kernelspec": {
   "display_name": "rp-review-env7",
   "language": "python",
   "name": "rp-review-env7"
  },
  "language_info": {
   "codemirror_mode": {
    "name": "ipython",
    "version": 3
   },
   "file_extension": ".py",
   "mimetype": "text/x-python",
   "name": "python",
   "nbconvert_exporter": "python",
   "pygments_lexer": "ipython3",
   "version": "3.8.18"
  }
 },
 "nbformat": 4,
 "nbformat_minor": 5
}
